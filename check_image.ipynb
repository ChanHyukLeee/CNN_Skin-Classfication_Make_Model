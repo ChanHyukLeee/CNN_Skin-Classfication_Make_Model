{
  "nbformat": 4,
  "nbformat_minor": 0,
  "metadata": {
    "colab": {
      "name": "check_image.ipynb",
      "private_outputs": true,
      "provenance": [],
      "collapsed_sections": [],
      "include_colab_link": true
    },
    "kernelspec": {
      "name": "python3",
      "display_name": "Python 3"
    },
    "language_info": {
      "name": "python"
    },
    "accelerator": "GPU"
  },
  "cells": [
    {
      "cell_type": "markdown",
      "metadata": {
        "id": "view-in-github",
        "colab_type": "text"
      },
      "source": [
        "<a href=\"https://colab.research.google.com/github/JustCal1MeLee/cnn_skin-classfication_makemodel_practice/blob/main/check_image.ipynb\" target=\"_parent\"><img src=\"https://colab.research.google.com/assets/colab-badge.svg\" alt=\"Open In Colab\"/></a>"
      ]
    },
    {
      "cell_type": "code",
      "metadata": {
        "id": "i5vddwD9J-Vw"
      },
      "source": [
        "import torch\n",
        "import torchvision\n",
        "import torch.nn as nn\n",
        "import torchvision.transforms as transforms\n",
        "import PIL.Image as Image"
      ],
      "execution_count": null,
      "outputs": []
    },
    {
      "cell_type": "markdown",
      "metadata": {
        "id": "Qw4y7diKb9n0"
      },
      "source": [
        "https://www.youtube.com/watch?v=H1pfPRQvO_w"
      ]
    },
    {
      "cell_type": "code",
      "metadata": {
        "id": "01Y6tdtYNOrN"
      },
      "source": [
        "device = 'cuda' if torch.cuda.is_available() else 'cpu'\n",
        "print(device)"
      ],
      "execution_count": null,
      "outputs": []
    },
    {
      "cell_type": "code",
      "metadata": {
        "id": "jCO7HeSjcZ9M"
      },
      "source": [
        "torch.manual_seed(777)\n",
        "if device == 'cuda':\n",
        "    torch.cuda.manual_seed_all(777)"
      ],
      "execution_count": null,
      "outputs": []
    },
    {
      "cell_type": "code",
      "metadata": {
        "id": "CpQLl8MmHlpR"
      },
      "source": [
        "model_path ='/content/drive/Shareddrives/2021_아이코어_페리도트팀/모델/model/model.pt'\n",
        "model = torchvision.models.resnet18(pretrained = True)\n",
        "num_features = model.fc.in_features\n",
        "number_of_classes = 4\n",
        "model.fc = nn.Linear(num_features, number_of_classes)\n",
        "model = model.to(device)\n",
        "\n",
        "model.load_state_dict(torch.load(model_path))"
      ],
      "execution_count": null,
      "outputs": []
    },
    {
      "cell_type": "code",
      "metadata": {
        "id": "oDLNDenReKXj"
      },
      "source": [
        "from google.colab import drive\n",
        "drive.mount('/content/drive')"
      ],
      "execution_count": null,
      "outputs": []
    },
    {
      "cell_type": "code",
      "metadata": {
        "id": "Oqyn_s8XbodR"
      },
      "source": [
        "classes = [\n",
        "    'combination',\n",
        "    'dry',\n",
        "    'oily',\n",
        "    'sensitive'\n",
        "]"
      ],
      "execution_count": null,
      "outputs": []
    },
    {
      "cell_type": "code",
      "metadata": {
        "id": "AiVEe0OmcRly"
      },
      "source": [
        "mean=[0.485, 0.456, 0.406]\n",
        "std=[0.229, 0.224, 0.225]\n",
        "\n",
        "trans = transforms.Compose([\n",
        "                            transforms.Resize([300,300]),\n",
        "                            transforms.ToTensor(),\n",
        "                            transforms.RandomHorizontalFlip(p=0.5),\n",
        "                            transforms.RandomVerticalFlip(p=0.5),  \n",
        "                            transforms.Normalize(torch.Tensor(mean),torch.Tensor(std))\n",
        "])"
      ],
      "execution_count": null,
      "outputs": []
    },
    {
      "cell_type": "code",
      "metadata": {
        "id": "6byFthlHcl7z"
      },
      "source": [
        "def classify(model, trans, image_path, classes):\n",
        "    model.eval()\n",
        "    img = Image.open(image_path)\n",
        "    img = trans(img).float()\n",
        "    img = img.unsqueeze(0)\n",
        "    img = img.to(device)\n",
        "\n",
        "    output = model(img)\n",
        "    _, predicted = torch.max(output.data, 1)\n",
        "    print(classes[predicted.item()])"
      ],
      "execution_count": null,
      "outputs": []
    },
    {
      "cell_type": "code",
      "metadata": {
        "id": "OZW5zwrDdmOo"
      },
      "source": [
        "classify(model, trans, '/content/drive/Shareddrives/2021_아이코어_페리도트팀/모델/DATABASE/dry/정면10.jpg', classes )"
      ],
      "execution_count": null,
      "outputs": []
    }
  ]
}